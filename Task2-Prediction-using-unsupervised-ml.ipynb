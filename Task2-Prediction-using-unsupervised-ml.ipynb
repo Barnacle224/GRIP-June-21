{
 "cells": [
  {
   "cell_type": "code",
   "execution_count": 1,
   "id": "loving-dividend",
   "metadata": {
    "_cell_guid": "b1076dfc-b9ad-4769-8c92-a6c4dae69d19",
    "_uuid": "8f2839f25d086af736a60e9eeb907d3b93b6e0e5",
    "execution": {
     "iopub.execute_input": "2021-06-06T08:34:52.784568Z",
     "iopub.status.busy": "2021-06-06T08:34:52.783910Z",
     "iopub.status.idle": "2021-06-06T08:34:52.794272Z",
     "shell.execute_reply": "2021-06-06T08:34:52.794974Z",
     "shell.execute_reply.started": "2021-06-06T08:32:48.982285Z"
    },
    "papermill": {
     "duration": 0.042682,
     "end_time": "2021-06-06T08:34:52.795327",
     "exception": false,
     "start_time": "2021-06-06T08:34:52.752645",
     "status": "completed"
    },
    "tags": []
   },
   "outputs": [
    {
     "name": "stdout",
     "output_type": "stream",
     "text": [
      "/kaggle/input/grip-task1/GRIP_TASK1.csv\n",
      "/kaggle/input/grip-task1/Iris_dataset.csv\n"
     ]
    }
   ],
   "source": [
    "# This Python 3 environment comes with many helpful analytics libraries installed\n",
    "# It is defined by the kaggle/python Docker image: https://github.com/kaggle/docker-python\n",
    "# For example, here's several helpful packages to load\n",
    "\n",
    "import numpy as np # linear algebra\n",
    "import pandas as pd # data processing, CSV file I/O (e.g. pd.read_csv)\n",
    "\n",
    "# Input data files are available in the read-only \"../input/\" directory\n",
    "# For example, running this (by clicking run or pressing Shift+Enter) will list all files under the input directory\n",
    "\n",
    "import os\n",
    "for dirname, _, filenames in os.walk('/kaggle/input'):\n",
    "    for filename in filenames:\n",
    "        print(os.path.join(dirname, filename))\n",
    "\n",
    "# You can write up to 20GB to the current directory (/kaggle/working/) that gets preserved as output when you create a version using \"Save & Run All\" \n",
    "# You can also write temporary files to /kaggle/temp/, but they won't be saved outside of the current session"
   ]
  },
  {
   "cell_type": "code",
   "execution_count": 2,
   "id": "expired-intro",
   "metadata": {
    "execution": {
     "iopub.execute_input": "2021-06-06T08:34:52.836518Z",
     "iopub.status.busy": "2021-06-06T08:34:52.835834Z",
     "iopub.status.idle": "2021-06-06T08:34:52.839148Z",
     "shell.execute_reply": "2021-06-06T08:34:52.839733Z",
     "shell.execute_reply.started": "2021-06-06T08:32:48.999168Z"
    },
    "papermill": {
     "duration": 0.024998,
     "end_time": "2021-06-06T08:34:52.839898",
     "exception": false,
     "start_time": "2021-06-06T08:34:52.814900",
     "status": "completed"
    },
    "tags": []
   },
   "outputs": [],
   "source": [
    "import numpy as np # linear algebra\n",
    "import pandas as pd # data processing, CSV file I/O (e.g. pd.read_csv)\n",
    "import matplotlib.pyplot as plt"
   ]
  },
  {
   "cell_type": "markdown",
   "id": "hybrid-seeking",
   "metadata": {
    "papermill": {
     "duration": 0.018174,
     "end_time": "2021-06-06T08:34:52.877262",
     "exception": false,
     "start_time": "2021-06-06T08:34:52.859088",
     "status": "completed"
    },
    "tags": []
   },
   "source": [
    "# Importing dataset and Exploring the data****"
   ]
  },
  {
   "cell_type": "code",
   "execution_count": 3,
   "id": "composite-company",
   "metadata": {
    "execution": {
     "iopub.execute_input": "2021-06-06T08:34:52.917889Z",
     "iopub.status.busy": "2021-06-06T08:34:52.917217Z",
     "iopub.status.idle": "2021-06-06T08:34:52.955787Z",
     "shell.execute_reply": "2021-06-06T08:34:52.955245Z",
     "shell.execute_reply.started": "2021-06-06T08:32:49.005706Z"
    },
    "papermill": {
     "duration": 0.060206,
     "end_time": "2021-06-06T08:34:52.955935",
     "exception": false,
     "start_time": "2021-06-06T08:34:52.895729",
     "status": "completed"
    },
    "tags": []
   },
   "outputs": [
    {
     "data": {
      "text/html": [
       "<div>\n",
       "<style scoped>\n",
       "    .dataframe tbody tr th:only-of-type {\n",
       "        vertical-align: middle;\n",
       "    }\n",
       "\n",
       "    .dataframe tbody tr th {\n",
       "        vertical-align: top;\n",
       "    }\n",
       "\n",
       "    .dataframe thead th {\n",
       "        text-align: right;\n",
       "    }\n",
       "</style>\n",
       "<table border=\"1\" class=\"dataframe\">\n",
       "  <thead>\n",
       "    <tr style=\"text-align: right;\">\n",
       "      <th></th>\n",
       "      <th>Id</th>\n",
       "      <th>SepalLengthCm</th>\n",
       "      <th>SepalWidthCm</th>\n",
       "      <th>PetalLengthCm</th>\n",
       "      <th>PetalWidthCm</th>\n",
       "      <th>Species</th>\n",
       "    </tr>\n",
       "  </thead>\n",
       "  <tbody>\n",
       "    <tr>\n",
       "      <th>0</th>\n",
       "      <td>1</td>\n",
       "      <td>5.1</td>\n",
       "      <td>3.5</td>\n",
       "      <td>1.4</td>\n",
       "      <td>0.2</td>\n",
       "      <td>Iris-setosa</td>\n",
       "    </tr>\n",
       "    <tr>\n",
       "      <th>1</th>\n",
       "      <td>2</td>\n",
       "      <td>4.9</td>\n",
       "      <td>3.0</td>\n",
       "      <td>1.4</td>\n",
       "      <td>0.2</td>\n",
       "      <td>Iris-setosa</td>\n",
       "    </tr>\n",
       "    <tr>\n",
       "      <th>2</th>\n",
       "      <td>3</td>\n",
       "      <td>4.7</td>\n",
       "      <td>3.2</td>\n",
       "      <td>1.3</td>\n",
       "      <td>0.2</td>\n",
       "      <td>Iris-setosa</td>\n",
       "    </tr>\n",
       "    <tr>\n",
       "      <th>3</th>\n",
       "      <td>4</td>\n",
       "      <td>4.6</td>\n",
       "      <td>3.1</td>\n",
       "      <td>1.5</td>\n",
       "      <td>0.2</td>\n",
       "      <td>Iris-setosa</td>\n",
       "    </tr>\n",
       "    <tr>\n",
       "      <th>4</th>\n",
       "      <td>5</td>\n",
       "      <td>5.0</td>\n",
       "      <td>3.6</td>\n",
       "      <td>1.4</td>\n",
       "      <td>0.2</td>\n",
       "      <td>Iris-setosa</td>\n",
       "    </tr>\n",
       "  </tbody>\n",
       "</table>\n",
       "</div>"
      ],
      "text/plain": [
       "   Id  SepalLengthCm  SepalWidthCm  PetalLengthCm  PetalWidthCm      Species\n",
       "0   1            5.1           3.5            1.4           0.2  Iris-setosa\n",
       "1   2            4.9           3.0            1.4           0.2  Iris-setosa\n",
       "2   3            4.7           3.2            1.3           0.2  Iris-setosa\n",
       "3   4            4.6           3.1            1.5           0.2  Iris-setosa\n",
       "4   5            5.0           3.6            1.4           0.2  Iris-setosa"
      ]
     },
     "execution_count": 3,
     "metadata": {},
     "output_type": "execute_result"
    }
   ],
   "source": [
    "#importing the data\n",
    "df = pd.read_csv(\"/kaggle/input/grip-task1/Iris_dataset.csv\")\n",
    "df.head()"
   ]
  },
  {
   "cell_type": "code",
   "execution_count": 4,
   "id": "marked-advance",
   "metadata": {
    "execution": {
     "iopub.execute_input": "2021-06-06T08:34:53.002007Z",
     "iopub.status.busy": "2021-06-06T08:34:53.001361Z",
     "iopub.status.idle": "2021-06-06T08:34:53.003285Z",
     "shell.execute_reply": "2021-06-06T08:34:53.003744Z",
     "shell.execute_reply.started": "2021-06-06T08:32:49.043748Z"
    },
    "papermill": {
     "duration": 0.029084,
     "end_time": "2021-06-06T08:34:53.003923",
     "exception": false,
     "start_time": "2021-06-06T08:34:52.974839",
     "status": "completed"
    },
    "tags": []
   },
   "outputs": [],
   "source": [
    "#since we need to create the clusters ourselves, we'll drop the \"Species\" column\n",
    "\n",
    "df.drop([\"Species\"],axis=1,inplace = True)"
   ]
  },
  {
   "cell_type": "code",
   "execution_count": 5,
   "id": "cooperative-abuse",
   "metadata": {
    "execution": {
     "iopub.execute_input": "2021-06-06T08:34:53.045695Z",
     "iopub.status.busy": "2021-06-06T08:34:53.044998Z",
     "iopub.status.idle": "2021-06-06T08:34:53.057331Z",
     "shell.execute_reply": "2021-06-06T08:34:53.057791Z",
     "shell.execute_reply.started": "2021-06-06T08:32:49.053024Z"
    },
    "papermill": {
     "duration": 0.035314,
     "end_time": "2021-06-06T08:34:53.057979",
     "exception": false,
     "start_time": "2021-06-06T08:34:53.022665",
     "status": "completed"
    },
    "tags": []
   },
   "outputs": [
    {
     "data": {
      "text/html": [
       "<div>\n",
       "<style scoped>\n",
       "    .dataframe tbody tr th:only-of-type {\n",
       "        vertical-align: middle;\n",
       "    }\n",
       "\n",
       "    .dataframe tbody tr th {\n",
       "        vertical-align: top;\n",
       "    }\n",
       "\n",
       "    .dataframe thead th {\n",
       "        text-align: right;\n",
       "    }\n",
       "</style>\n",
       "<table border=\"1\" class=\"dataframe\">\n",
       "  <thead>\n",
       "    <tr style=\"text-align: right;\">\n",
       "      <th></th>\n",
       "      <th>Id</th>\n",
       "      <th>SepalLengthCm</th>\n",
       "      <th>SepalWidthCm</th>\n",
       "      <th>PetalLengthCm</th>\n",
       "      <th>PetalWidthCm</th>\n",
       "    </tr>\n",
       "  </thead>\n",
       "  <tbody>\n",
       "    <tr>\n",
       "      <th>0</th>\n",
       "      <td>1</td>\n",
       "      <td>5.1</td>\n",
       "      <td>3.5</td>\n",
       "      <td>1.4</td>\n",
       "      <td>0.2</td>\n",
       "    </tr>\n",
       "    <tr>\n",
       "      <th>1</th>\n",
       "      <td>2</td>\n",
       "      <td>4.9</td>\n",
       "      <td>3.0</td>\n",
       "      <td>1.4</td>\n",
       "      <td>0.2</td>\n",
       "    </tr>\n",
       "    <tr>\n",
       "      <th>2</th>\n",
       "      <td>3</td>\n",
       "      <td>4.7</td>\n",
       "      <td>3.2</td>\n",
       "      <td>1.3</td>\n",
       "      <td>0.2</td>\n",
       "    </tr>\n",
       "    <tr>\n",
       "      <th>3</th>\n",
       "      <td>4</td>\n",
       "      <td>4.6</td>\n",
       "      <td>3.1</td>\n",
       "      <td>1.5</td>\n",
       "      <td>0.2</td>\n",
       "    </tr>\n",
       "    <tr>\n",
       "      <th>4</th>\n",
       "      <td>5</td>\n",
       "      <td>5.0</td>\n",
       "      <td>3.6</td>\n",
       "      <td>1.4</td>\n",
       "      <td>0.2</td>\n",
       "    </tr>\n",
       "  </tbody>\n",
       "</table>\n",
       "</div>"
      ],
      "text/plain": [
       "   Id  SepalLengthCm  SepalWidthCm  PetalLengthCm  PetalWidthCm\n",
       "0   1            5.1           3.5            1.4           0.2\n",
       "1   2            4.9           3.0            1.4           0.2\n",
       "2   3            4.7           3.2            1.3           0.2\n",
       "3   4            4.6           3.1            1.5           0.2\n",
       "4   5            5.0           3.6            1.4           0.2"
      ]
     },
     "execution_count": 5,
     "metadata": {},
     "output_type": "execute_result"
    }
   ],
   "source": [
    "df.head()"
   ]
  },
  {
   "cell_type": "code",
   "execution_count": 6,
   "id": "retained-chess",
   "metadata": {
    "execution": {
     "iopub.execute_input": "2021-06-06T08:34:53.099590Z",
     "iopub.status.busy": "2021-06-06T08:34:53.098948Z",
     "iopub.status.idle": "2021-06-06T08:34:53.128597Z",
     "shell.execute_reply": "2021-06-06T08:34:53.128061Z",
     "shell.execute_reply.started": "2021-06-06T08:32:49.07077Z"
    },
    "papermill": {
     "duration": 0.051368,
     "end_time": "2021-06-06T08:34:53.128733",
     "exception": false,
     "start_time": "2021-06-06T08:34:53.077365",
     "status": "completed"
    },
    "tags": []
   },
   "outputs": [
    {
     "data": {
      "text/html": [
       "<div>\n",
       "<style scoped>\n",
       "    .dataframe tbody tr th:only-of-type {\n",
       "        vertical-align: middle;\n",
       "    }\n",
       "\n",
       "    .dataframe tbody tr th {\n",
       "        vertical-align: top;\n",
       "    }\n",
       "\n",
       "    .dataframe thead th {\n",
       "        text-align: right;\n",
       "    }\n",
       "</style>\n",
       "<table border=\"1\" class=\"dataframe\">\n",
       "  <thead>\n",
       "    <tr style=\"text-align: right;\">\n",
       "      <th></th>\n",
       "      <th>Id</th>\n",
       "      <th>SepalLengthCm</th>\n",
       "      <th>SepalWidthCm</th>\n",
       "      <th>PetalLengthCm</th>\n",
       "      <th>PetalWidthCm</th>\n",
       "    </tr>\n",
       "  </thead>\n",
       "  <tbody>\n",
       "    <tr>\n",
       "      <th>count</th>\n",
       "      <td>150.000000</td>\n",
       "      <td>150.000000</td>\n",
       "      <td>150.000000</td>\n",
       "      <td>150.000000</td>\n",
       "      <td>150.000000</td>\n",
       "    </tr>\n",
       "    <tr>\n",
       "      <th>mean</th>\n",
       "      <td>75.500000</td>\n",
       "      <td>5.843333</td>\n",
       "      <td>3.054000</td>\n",
       "      <td>3.758667</td>\n",
       "      <td>1.198667</td>\n",
       "    </tr>\n",
       "    <tr>\n",
       "      <th>std</th>\n",
       "      <td>43.445368</td>\n",
       "      <td>0.828066</td>\n",
       "      <td>0.433594</td>\n",
       "      <td>1.764420</td>\n",
       "      <td>0.763161</td>\n",
       "    </tr>\n",
       "    <tr>\n",
       "      <th>min</th>\n",
       "      <td>1.000000</td>\n",
       "      <td>4.300000</td>\n",
       "      <td>2.000000</td>\n",
       "      <td>1.000000</td>\n",
       "      <td>0.100000</td>\n",
       "    </tr>\n",
       "    <tr>\n",
       "      <th>25%</th>\n",
       "      <td>38.250000</td>\n",
       "      <td>5.100000</td>\n",
       "      <td>2.800000</td>\n",
       "      <td>1.600000</td>\n",
       "      <td>0.300000</td>\n",
       "    </tr>\n",
       "    <tr>\n",
       "      <th>50%</th>\n",
       "      <td>75.500000</td>\n",
       "      <td>5.800000</td>\n",
       "      <td>3.000000</td>\n",
       "      <td>4.350000</td>\n",
       "      <td>1.300000</td>\n",
       "    </tr>\n",
       "    <tr>\n",
       "      <th>75%</th>\n",
       "      <td>112.750000</td>\n",
       "      <td>6.400000</td>\n",
       "      <td>3.300000</td>\n",
       "      <td>5.100000</td>\n",
       "      <td>1.800000</td>\n",
       "    </tr>\n",
       "    <tr>\n",
       "      <th>max</th>\n",
       "      <td>150.000000</td>\n",
       "      <td>7.900000</td>\n",
       "      <td>4.400000</td>\n",
       "      <td>6.900000</td>\n",
       "      <td>2.500000</td>\n",
       "    </tr>\n",
       "  </tbody>\n",
       "</table>\n",
       "</div>"
      ],
      "text/plain": [
       "               Id  SepalLengthCm  SepalWidthCm  PetalLengthCm  PetalWidthCm\n",
       "count  150.000000     150.000000    150.000000     150.000000    150.000000\n",
       "mean    75.500000       5.843333      3.054000       3.758667      1.198667\n",
       "std     43.445368       0.828066      0.433594       1.764420      0.763161\n",
       "min      1.000000       4.300000      2.000000       1.000000      0.100000\n",
       "25%     38.250000       5.100000      2.800000       1.600000      0.300000\n",
       "50%     75.500000       5.800000      3.000000       4.350000      1.300000\n",
       "75%    112.750000       6.400000      3.300000       5.100000      1.800000\n",
       "max    150.000000       7.900000      4.400000       6.900000      2.500000"
      ]
     },
     "execution_count": 6,
     "metadata": {},
     "output_type": "execute_result"
    }
   ],
   "source": [
    "df.describe()"
   ]
  },
  {
   "cell_type": "code",
   "execution_count": 7,
   "id": "large-complex",
   "metadata": {
    "execution": {
     "iopub.execute_input": "2021-06-06T08:34:53.173268Z",
     "iopub.status.busy": "2021-06-06T08:34:53.172590Z",
     "iopub.status.idle": "2021-06-06T08:34:53.175860Z",
     "shell.execute_reply": "2021-06-06T08:34:53.176316Z",
     "shell.execute_reply.started": "2021-06-06T08:32:49.100845Z"
    },
    "papermill": {
     "duration": 0.028007,
     "end_time": "2021-06-06T08:34:53.176505",
     "exception": false,
     "start_time": "2021-06-06T08:34:53.148498",
     "status": "completed"
    },
    "tags": []
   },
   "outputs": [
    {
     "data": {
      "text/plain": [
       "(150, 5)"
      ]
     },
     "execution_count": 7,
     "metadata": {},
     "output_type": "execute_result"
    }
   ],
   "source": [
    "df.shape"
   ]
  },
  {
   "cell_type": "code",
   "execution_count": 8,
   "id": "electronic-crisis",
   "metadata": {
    "execution": {
     "iopub.execute_input": "2021-06-06T08:34:53.222653Z",
     "iopub.status.busy": "2021-06-06T08:34:53.222028Z",
     "iopub.status.idle": "2021-06-06T08:34:53.235324Z",
     "shell.execute_reply": "2021-06-06T08:34:53.235961Z",
     "shell.execute_reply.started": "2021-06-06T08:32:49.107649Z"
    },
    "papermill": {
     "duration": 0.039485,
     "end_time": "2021-06-06T08:34:53.236136",
     "exception": false,
     "start_time": "2021-06-06T08:34:53.196651",
     "status": "completed"
    },
    "tags": []
   },
   "outputs": [
    {
     "name": "stdout",
     "output_type": "stream",
     "text": [
      "<class 'pandas.core.frame.DataFrame'>\n",
      "RangeIndex: 150 entries, 0 to 149\n",
      "Data columns (total 5 columns):\n",
      " #   Column         Non-Null Count  Dtype  \n",
      "---  ------         --------------  -----  \n",
      " 0   Id             150 non-null    int64  \n",
      " 1   SepalLengthCm  150 non-null    float64\n",
      " 2   SepalWidthCm   150 non-null    float64\n",
      " 3   PetalLengthCm  150 non-null    float64\n",
      " 4   PetalWidthCm   150 non-null    float64\n",
      "dtypes: float64(4), int64(1)\n",
      "memory usage: 6.0 KB\n"
     ]
    }
   ],
   "source": [
    "df.info()"
   ]
  },
  {
   "cell_type": "markdown",
   "id": "future-princeton",
   "metadata": {
    "papermill": {
     "duration": 0.019886,
     "end_time": "2021-06-06T08:34:53.276448",
     "exception": false,
     "start_time": "2021-06-06T08:34:53.256562",
     "status": "completed"
    },
    "tags": []
   },
   "source": [
    "# **Finding the optimal number of clusters**"
   ]
  },
  {
   "cell_type": "markdown",
   "id": "extraordinary-money",
   "metadata": {
    "papermill": {
     "duration": 0.020148,
     "end_time": "2021-06-06T08:34:53.317488",
     "exception": false,
     "start_time": "2021-06-06T08:34:53.297340",
     "status": "completed"
    },
    "tags": []
   },
   "source": [
    "Since we do not know the number of clusters we might need for proper classification, we will use an algorithm called **Elbow method** to find the optimal value of K in K means clustering. For elbow method we have to define 2 things:\n",
    "1) Distortion:  It is calculated as the average of the squared distances from the cluster centers of the respective clusters. Typically, the Euclidean distance metric is used.\n",
    "\n",
    "2) Inertia: It is the sum of squared distances of samples to their closest cluster center.\n",
    "Now we iterate through a few values for our K and calculate the values of distortion and inertial for all the values of K in the range."
   ]
  },
  {
   "cell_type": "code",
   "execution_count": 9,
   "id": "hollywood-referral",
   "metadata": {
    "execution": {
     "iopub.execute_input": "2021-06-06T08:34:53.365564Z",
     "iopub.status.busy": "2021-06-06T08:34:53.364881Z",
     "iopub.status.idle": "2021-06-06T08:34:53.368468Z",
     "shell.execute_reply": "2021-06-06T08:34:53.367794Z",
     "shell.execute_reply.started": "2021-06-06T08:32:49.12715Z"
    },
    "papermill": {
     "duration": 0.030877,
     "end_time": "2021-06-06T08:34:53.368608",
     "exception": false,
     "start_time": "2021-06-06T08:34:53.337731",
     "status": "completed"
    },
    "tags": []
   },
   "outputs": [],
   "source": [
    "X = df.iloc[:, [1, 2, 3, 4]].values\n",
    "distortion=[]\n",
    "inertia=[]\n",
    "mapping_1={}\n",
    "mapping_2={}\n",
    "K = range(1,11)\n"
   ]
  },
  {
   "cell_type": "code",
   "execution_count": 10,
   "id": "identical-consistency",
   "metadata": {
    "execution": {
     "iopub.execute_input": "2021-06-06T08:34:53.417884Z",
     "iopub.status.busy": "2021-06-06T08:34:53.416936Z",
     "iopub.status.idle": "2021-06-06T08:34:55.428093Z",
     "shell.execute_reply": "2021-06-06T08:34:55.428948Z",
     "shell.execute_reply.started": "2021-06-06T08:32:49.154731Z"
    },
    "papermill": {
     "duration": 2.040044,
     "end_time": "2021-06-06T08:34:55.429166",
     "exception": false,
     "start_time": "2021-06-06T08:34:53.389122",
     "status": "completed"
    },
    "tags": []
   },
   "outputs": [
    {
     "name": "stderr",
     "output_type": "stream",
     "text": [
      "100%|██████████| 10/10 [00:00<00:00, 12.62it/s]\n"
     ]
    }
   ],
   "source": [
    "from tqdm import tqdm\n",
    "from sklearn.cluster import KMeans\n",
    "from scipy.spatial.distance import cdist\n",
    "for i in tqdm(K):\n",
    "    #creating the model and fitting\n",
    "    model = KMeans(n_clusters = i).fit(X)\n",
    "    model.fit(X)\n",
    "    distortion.append(sum(np.min(cdist(X, model.cluster_centers_,\n",
    "                                        'euclidean'), axis=1)) / X.shape[0])\n",
    "    inertia.append(model.inertia_)\n",
    "    mapping_1[i] = sum(np.min(cdist(X, model.cluster_centers_,\n",
    "                                   'euclidean'), axis=1)) / X.shape[0]\n",
    "    mapping_2[i] = model.inertia_\n",
    "    "
   ]
  },
  {
   "cell_type": "markdown",
   "id": "existing-advantage",
   "metadata": {
    "papermill": {
     "duration": 0.022308,
     "end_time": "2021-06-06T08:34:55.475869",
     "exception": false,
     "start_time": "2021-06-06T08:34:55.453561",
     "status": "completed"
    },
    "tags": []
   },
   "source": [
    "**Visualizing the results**"
   ]
  },
  {
   "cell_type": "code",
   "execution_count": 11,
   "id": "personal-plymouth",
   "metadata": {
    "execution": {
     "iopub.execute_input": "2021-06-06T08:34:55.525312Z",
     "iopub.status.busy": "2021-06-06T08:34:55.524363Z",
     "iopub.status.idle": "2021-06-06T08:34:55.709537Z",
     "shell.execute_reply": "2021-06-06T08:34:55.709037Z",
     "shell.execute_reply.started": "2021-06-06T08:32:50.977232Z"
    },
    "papermill": {
     "duration": 0.211035,
     "end_time": "2021-06-06T08:34:55.709674",
     "exception": false,
     "start_time": "2021-06-06T08:34:55.498639",
     "status": "completed"
    },
    "tags": []
   },
   "outputs": [
    {
     "data": {
      "image/png": "[encoded data removed]",
      "text/plain": [
       "<Figure size 432x288 with 1 Axes>"
      ]
     },
     "metadata": {
      "needs_background": "light"
     },
     "output_type": "display_data"
    }
   ],
   "source": [
    "plt.plot(K,distortion,'bx--')\n",
    "plt.xlabel(\"Number of clusters\")\n",
    "plt.ylabel(\"Distortion\")\n",
    "plt.title(\"Elbow method using distortion\")\n",
    "plt.show()"
   ]
  },
  {
   "cell_type": "code",
   "execution_count": 12,
   "id": "threaded-processor",
   "metadata": {
    "execution": {
     "iopub.execute_input": "2021-06-06T08:34:55.760710Z",
     "iopub.status.busy": "2021-06-06T08:34:55.759741Z",
     "iopub.status.idle": "2021-06-06T08:34:55.898414Z",
     "shell.execute_reply": "2021-06-06T08:34:55.898963Z",
     "shell.execute_reply.started": "2021-06-06T08:32:51.152801Z"
    },
    "papermill": {
     "duration": 0.165846,
     "end_time": "2021-06-06T08:34:55.899132",
     "exception": false,
     "start_time": "2021-06-06T08:34:55.733286",
     "status": "completed"
    },
    "tags": []
   },
   "outputs": [
    {
     "data": {
      "image/png": "[encoded data removed]",
      "text/plain": [
       "<Figure size 432x288 with 1 Axes>"
      ]
     },
     "metadata": {
      "needs_background": "light"
     },
     "output_type": "display_data"
    }
   ],
   "source": [
    "plt.plot(K,inertia,'bx--')\n",
    "plt.xlabel(\"Number of clusters\")\n",
    "plt.ylabel(\"Inertia\")\n",
    "plt.title(\"Elbow method using Inertia\")\n",
    "plt.show()"
   ]
  },
  {
   "cell_type": "markdown",
   "id": "utility-liverpool",
   "metadata": {
    "papermill": {
     "duration": 0.024099,
     "end_time": "2021-06-06T08:34:55.947990",
     "exception": false,
     "start_time": "2021-06-06T08:34:55.923891",
     "status": "completed"
    },
    "tags": []
   },
   "source": [
    "Thus from both the Elbow methods, we can conclude that the optimal number of clusters is 3. Thus k=3 for our Kmeans cluster model."
   ]
  },
  {
   "cell_type": "markdown",
   "id": "double-fight",
   "metadata": {
    "papermill": {
     "duration": 0.024405,
     "end_time": "2021-06-06T08:34:55.997068",
     "exception": false,
     "start_time": "2021-06-06T08:34:55.972663",
     "status": "completed"
    },
    "tags": []
   },
   "source": [
    "# **Model**"
   ]
  },
  {
   "cell_type": "code",
   "execution_count": 13,
   "id": "suited-dividend",
   "metadata": {
    "execution": {
     "iopub.execute_input": "2021-06-06T08:34:56.049963Z",
     "iopub.status.busy": "2021-06-06T08:34:56.049025Z",
     "iopub.status.idle": "2021-06-06T08:34:56.077704Z",
     "shell.execute_reply": "2021-06-06T08:34:56.078183Z",
     "shell.execute_reply.started": "2021-06-06T08:32:51.282306Z"
    },
    "papermill": {
     "duration": 0.056769,
     "end_time": "2021-06-06T08:34:56.078376",
     "exception": false,
     "start_time": "2021-06-06T08:34:56.021607",
     "status": "completed"
    },
    "tags": []
   },
   "outputs": [],
   "source": [
    "#applying Kmeans classifier to the dataset\n",
    "\n",
    "k_model = KMeans(n_clusters=3)\n",
    "y_kmean = k_model.fit_predict(X)"
   ]
  },
  {
   "cell_type": "code",
   "execution_count": 14,
   "id": "owned-karma",
   "metadata": {
    "execution": {
     "iopub.execute_input": "2021-06-06T08:34:56.133552Z",
     "iopub.status.busy": "2021-06-06T08:34:56.132602Z",
     "iopub.status.idle": "2021-06-06T08:34:56.136793Z",
     "shell.execute_reply": "2021-06-06T08:34:56.136167Z",
     "shell.execute_reply.started": "2021-06-06T08:32:51.313349Z"
    },
    "papermill": {
     "duration": 0.034152,
     "end_time": "2021-06-06T08:34:56.136922",
     "exception": false,
     "start_time": "2021-06-06T08:34:56.102770",
     "status": "completed"
    },
    "tags": []
   },
   "outputs": [
    {
     "data": {
      "text/plain": [
       "array([1, 1, 1, 1, 1, 1, 1, 1, 1, 1, 1, 1, 1, 1, 1, 1, 1, 1, 1, 1, 1, 1,\n",
       "       1, 1, 1, 1, 1, 1, 1, 1, 1, 1, 1, 1, 1, 1, 1, 1, 1, 1, 1, 1, 1, 1,\n",
       "       1, 1, 1, 1, 1, 1, 2, 2, 0, 2, 2, 2, 2, 2, 2, 2, 2, 2, 2, 2, 2, 2,\n",
       "       2, 2, 2, 2, 2, 2, 2, 2, 2, 2, 2, 0, 2, 2, 2, 2, 2, 2, 2, 2, 2, 2,\n",
       "       2, 2, 2, 2, 2, 2, 2, 2, 2, 2, 2, 2, 0, 2, 0, 0, 0, 0, 2, 0, 0, 0,\n",
       "       0, 0, 0, 2, 2, 0, 0, 0, 0, 2, 0, 2, 0, 2, 0, 0, 2, 2, 0, 0, 0, 0,\n",
       "       0, 2, 0, 0, 0, 0, 2, 0, 0, 0, 2, 0, 0, 0, 2, 0, 0, 2], dtype=int32)"
      ]
     },
     "execution_count": 14,
     "metadata": {},
     "output_type": "execute_result"
    }
   ],
   "source": [
    "#viewing our classification array\n",
    "y_kmean"
   ]
  },
  {
   "cell_type": "code",
   "execution_count": 15,
   "id": "interesting-reception",
   "metadata": {
    "execution": {
     "iopub.execute_input": "2021-06-06T08:34:56.189442Z",
     "iopub.status.busy": "2021-06-06T08:34:56.188842Z",
     "iopub.status.idle": "2021-06-06T08:34:56.193564Z",
     "shell.execute_reply": "2021-06-06T08:34:56.194066Z",
     "shell.execute_reply.started": "2021-06-06T08:32:51.321079Z"
    },
    "papermill": {
     "duration": 0.032535,
     "end_time": "2021-06-06T08:34:56.194232",
     "exception": false,
     "start_time": "2021-06-06T08:34:56.161697",
     "status": "completed"
    },
    "tags": []
   },
   "outputs": [
    {
     "data": {
      "text/plain": [
       "array([[6.85      , 3.07368421, 5.74210526, 2.07105263],\n",
       "       [5.006     , 3.418     , 1.464     , 0.244     ],\n",
       "       [5.9016129 , 2.7483871 , 4.39354839, 1.43387097]])"
      ]
     },
     "execution_count": 15,
     "metadata": {},
     "output_type": "execute_result"
    }
   ],
   "source": [
    "#co-ordiantes of cluster centers\n",
    "\n",
    "k_model.cluster_centers_"
   ]
  },
  {
   "cell_type": "markdown",
   "id": "fourth-empire",
   "metadata": {
    "papermill": {
     "duration": 0.025084,
     "end_time": "2021-06-06T08:34:56.244615",
     "exception": false,
     "start_time": "2021-06-06T08:34:56.219531",
     "status": "completed"
    },
    "tags": []
   },
   "source": [
    "# **Visulaizing the clusters**"
   ]
  },
  {
   "cell_type": "code",
   "execution_count": 16,
   "id": "fatty-feature",
   "metadata": {
    "execution": {
     "iopub.execute_input": "2021-06-06T08:34:56.298962Z",
     "iopub.status.busy": "2021-06-06T08:34:56.298033Z",
     "iopub.status.idle": "2021-06-06T08:34:56.486294Z",
     "shell.execute_reply": "2021-06-06T08:34:56.486766Z",
     "shell.execute_reply.started": "2021-06-06T08:32:51.33082Z"
    },
    "papermill": {
     "duration": 0.216962,
     "end_time": "2021-06-06T08:34:56.486938",
     "exception": false,
     "start_time": "2021-06-06T08:34:56.269976",
     "status": "completed"
    },
    "tags": []
   },
   "outputs": [
    {
     "data": {
      "text/plain": [
       "[]"
      ]
     },
     "execution_count": 16,
     "metadata": {},
     "output_type": "execute_result"
    },
    {
     "data": {
      "image/png": "[encoded data removed]",
      "text/plain": [
       "<Figure size 432x288 with 1 Axes>"
      ]
     },
     "metadata": {
      "needs_background": "light"
     },
     "output_type": "display_data"
    }
   ],
   "source": [
    "#plotting the clusters\n",
    "plt.scatter(X[y_kmean==0,0],X[y_kmean==0,1],c='yellow')\n",
    "plt.scatter(X[y_kmean==1,0],X[y_kmean==1,1],c='green')\n",
    "plt.scatter(X[y_kmean==2,0],X[y_kmean==2,1],c='blue')\n",
    "\n",
    "#plotting the centers\n",
    "plt.scatter(k_model.cluster_centers_[:,0],k_model.cluster_centers_[:,1],c='red')\n",
    "\n",
    "plt.plot()"
   ]
  },
  {
   "cell_type": "markdown",
   "id": "special-darkness",
   "metadata": {
    "papermill": {
     "duration": 0.026459,
     "end_time": "2021-06-06T08:34:56.539581",
     "exception": false,
     "start_time": "2021-06-06T08:34:56.513122",
     "status": "completed"
    },
    "tags": []
   },
   "source": [
    "**3D Scatter plot for better understanding**"
   ]
  },
  {
   "cell_type": "code",
   "execution_count": 17,
   "id": "powered-caribbean",
   "metadata": {
    "execution": {
     "iopub.execute_input": "2021-06-06T08:34:56.597824Z",
     "iopub.status.busy": "2021-06-06T08:34:56.596855Z",
     "iopub.status.idle": "2021-06-06T08:34:56.821607Z",
     "shell.execute_reply": "2021-06-06T08:34:56.822177Z",
     "shell.execute_reply.started": "2021-06-06T08:32:51.510333Z"
    },
    "papermill": {
     "duration": 0.255053,
     "end_time": "2021-06-06T08:34:56.822343",
     "exception": false,
     "start_time": "2021-06-06T08:34:56.567290",
     "status": "completed"
    },
    "tags": []
   },
   "outputs": [
    {
     "data": {
      "image/png": "[encoded data removed]",
      "text/plain": [
       "<Figure size 1152x648 with 1 Axes>"
      ]
     },
     "metadata": {
      "needs_background": "light"
     },
     "output_type": "display_data"
    }
   ],
   "source": [
    "# Import libraries\n",
    "from mpl_toolkits import mplot3d\n",
    " \n",
    "# Creating figure\n",
    "fig = plt.figure(figsize = (16, 9))\n",
    "ax = plt.axes(projection =\"3d\")\n",
    " \n",
    "# Creating plot\n",
    "ax.scatter3D(X[y_kmean==0,0],X[y_kmean==0,1],X[y_kmean==0,2] ,c = \"yellow\")\n",
    "ax.scatter3D(X[y_kmean==1,0],X[y_kmean==1,1],X[y_kmean==1,2] ,c = \"green\")\n",
    "ax.scatter3D(X[y_kmean==2,0],X[y_kmean==2,1],X[y_kmean==2,2] ,c = \"blue\")\n",
    "\n",
    "#cluster centers\n",
    "ax.scatter3D(k_model.cluster_centers_[:,0],k_model.cluster_centers_[:,1],k_model.cluster_centers_[:,2],c='red')\n",
    "plt.title(\"3D scatter plot\")\n",
    " \n",
    "# show plot\n",
    "plt.show()"
   ]
  }
 ],
 "metadata": {
  "kernelspec": {
   "display_name": "Python 3",
   "language": "python",
   "name": "python3"
  },
  "language_info": {
   "codemirror_mode": {
    "name": "ipython",
    "version": 3
   },
   "file_extension": ".py",
   "mimetype": "text/x-python",
   "name": "python",
   "nbconvert_exporter": "python",
   "pygments_lexer": "ipython3",
   "version": "3.7.10"
  },
  "papermill": {
   "default_parameters": {},
   "duration": 12.820599,
   "end_time": "2021-06-06T08:34:57.561644",
   "environment_variables": {},
   "exception": null,
   "input_path": "__notebook__.ipynb",
   "output_path": "__notebook__.ipynb",
   "parameters": {},
   "start_time": "2021-06-06T08:34:44.741045",
   "version": "2.3.3"
  }
 },
 "nbformat": 4,
 "nbformat_minor": 5
}
