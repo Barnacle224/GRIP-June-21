{
 "cells": [
  {
   "cell_type": "code",
   "execution_count": 1,
   "id": "minimal-biodiversity",
   "metadata": {
    "_cell_guid": "b1076dfc-b9ad-4769-8c92-a6c4dae69d19",
    "_uuid": "8f2839f25d086af736a60e9eeb907d3b93b6e0e5",
    "execution": {
     "iopub.execute_input": "2021-06-05T12:49:34.341202Z",
     "iopub.status.busy": "2021-06-05T12:49:34.340060Z",
     "iopub.status.idle": "2021-06-05T12:49:34.343509Z",
     "shell.execute_reply": "2021-06-05T12:49:34.343965Z",
     "shell.execute_reply.started": "2021-06-05T12:19:27.011296Z"
    },
    "papermill": {
     "duration": 0.023955,
     "end_time": "2021-06-05T12:49:34.344284",
     "exception": false,
     "start_time": "2021-06-05T12:49:34.320329",
     "status": "completed"
    },
    "tags": []
   },
   "outputs": [],
   "source": [
    "#This notebook is for TSF GRIP Data Science and Business analytics Task 2 Problem 1 "
   ]
  },
  {
   "cell_type": "code",
   "execution_count": 2,
   "id": "continuous-kruger",
   "metadata": {
    "execution": {
     "iopub.execute_input": "2021-06-05T12:49:34.377608Z",
     "iopub.status.busy": "2021-06-05T12:49:34.376981Z",
     "iopub.status.idle": "2021-06-05T12:49:34.388904Z",
     "shell.execute_reply": "2021-06-05T12:49:34.388302Z",
     "shell.execute_reply.started": "2021-06-05T12:19:27.022219Z"
    },
    "papermill": {
     "duration": 0.029624,
     "end_time": "2021-06-05T12:49:34.389079",
     "exception": false,
     "start_time": "2021-06-05T12:49:34.359455",
     "status": "completed"
    },
    "tags": []
   },
   "outputs": [],
   "source": [
    "#importing necessary libraries\n",
    "import numpy as np\n",
    "import pandas as pd\n",
    "import matplotlib.pyplot as plt\n",
    "%matplotlib inline\n"
   ]
  },
  {
   "cell_type": "code",
   "execution_count": 3,
   "id": "coral-large",
   "metadata": {
    "execution": {
     "iopub.execute_input": "2021-06-05T12:49:34.424702Z",
     "iopub.status.busy": "2021-06-05T12:49:34.424050Z",
     "iopub.status.idle": "2021-06-05T12:49:34.473181Z",
     "shell.execute_reply": "2021-06-05T12:49:34.472585Z",
     "shell.execute_reply.started": "2021-06-05T12:20:19.204350Z"
    },
    "papermill": {
     "duration": 0.068896,
     "end_time": "2021-06-05T12:49:34.473346",
     "exception": false,
     "start_time": "2021-06-05T12:49:34.404450",
     "status": "completed"
    },
    "tags": []
   },
   "outputs": [
    {
     "data": {
      "text/html": [
       "<div>\n",
       "<style scoped>\n",
       "    .dataframe tbody tr th:only-of-type {\n",
       "        vertical-align: middle;\n",
       "    }\n",
       "\n",
       "    .dataframe tbody tr th {\n",
       "        vertical-align: top;\n",
       "    }\n",
       "\n",
       "    .dataframe thead th {\n",
       "        text-align: right;\n",
       "    }\n",
       "</style>\n",
       "<table border=\"1\" class=\"dataframe\">\n",
       "  <thead>\n",
       "    <tr style=\"text-align: right;\">\n",
       "      <th></th>\n",
       "      <th>Hours</th>\n",
       "      <th>Scores</th>\n",
       "    </tr>\n",
       "  </thead>\n",
       "  <tbody>\n",
       "    <tr>\n",
       "      <th>0</th>\n",
       "      <td>2.5</td>\n",
       "      <td>21</td>\n",
       "    </tr>\n",
       "    <tr>\n",
       "      <th>1</th>\n",
       "      <td>5.1</td>\n",
       "      <td>47</td>\n",
       "    </tr>\n",
       "    <tr>\n",
       "      <th>2</th>\n",
       "      <td>3.2</td>\n",
       "      <td>27</td>\n",
       "    </tr>\n",
       "    <tr>\n",
       "      <th>3</th>\n",
       "      <td>8.5</td>\n",
       "      <td>75</td>\n",
       "    </tr>\n",
       "    <tr>\n",
       "      <th>4</th>\n",
       "      <td>3.5</td>\n",
       "      <td>30</td>\n",
       "    </tr>\n",
       "    <tr>\n",
       "      <th>5</th>\n",
       "      <td>1.5</td>\n",
       "      <td>20</td>\n",
       "    </tr>\n",
       "    <tr>\n",
       "      <th>6</th>\n",
       "      <td>9.2</td>\n",
       "      <td>88</td>\n",
       "    </tr>\n",
       "    <tr>\n",
       "      <th>7</th>\n",
       "      <td>5.5</td>\n",
       "      <td>60</td>\n",
       "    </tr>\n",
       "    <tr>\n",
       "      <th>8</th>\n",
       "      <td>8.3</td>\n",
       "      <td>81</td>\n",
       "    </tr>\n",
       "    <tr>\n",
       "      <th>9</th>\n",
       "      <td>2.7</td>\n",
       "      <td>25</td>\n",
       "    </tr>\n",
       "  </tbody>\n",
       "</table>\n",
       "</div>"
      ],
      "text/plain": [
       "   Hours  Scores\n",
       "0    2.5      21\n",
       "1    5.1      47\n",
       "2    3.2      27\n",
       "3    8.5      75\n",
       "4    3.5      30\n",
       "5    1.5      20\n",
       "6    9.2      88\n",
       "7    5.5      60\n",
       "8    8.3      81\n",
       "9    2.7      25"
      ]
     },
     "execution_count": 3,
     "metadata": {},
     "output_type": "execute_result"
    }
   ],
   "source": [
    "#reading data\n",
    "df = pd.read_csv(\"../input/grip-task1/GRIP_TASK1.csv\")\n",
    "df.head(10)\n"
   ]
  },
  {
   "cell_type": "code",
   "execution_count": 4,
   "id": "eastern-lebanon",
   "metadata": {
    "execution": {
     "iopub.execute_input": "2021-06-05T12:49:34.510301Z",
     "iopub.status.busy": "2021-06-05T12:49:34.509550Z",
     "iopub.status.idle": "2021-06-05T12:49:34.532334Z",
     "shell.execute_reply": "2021-06-05T12:49:34.532885Z",
     "shell.execute_reply.started": "2021-06-05T12:20:30.113245Z"
    },
    "papermill": {
     "duration": 0.044003,
     "end_time": "2021-06-05T12:49:34.533096",
     "exception": false,
     "start_time": "2021-06-05T12:49:34.489093",
     "status": "completed"
    },
    "tags": []
   },
   "outputs": [
    {
     "data": {
      "text/html": [
       "<div>\n",
       "<style scoped>\n",
       "    .dataframe tbody tr th:only-of-type {\n",
       "        vertical-align: middle;\n",
       "    }\n",
       "\n",
       "    .dataframe tbody tr th {\n",
       "        vertical-align: top;\n",
       "    }\n",
       "\n",
       "    .dataframe thead th {\n",
       "        text-align: right;\n",
       "    }\n",
       "</style>\n",
       "<table border=\"1\" class=\"dataframe\">\n",
       "  <thead>\n",
       "    <tr style=\"text-align: right;\">\n",
       "      <th></th>\n",
       "      <th>Hours</th>\n",
       "      <th>Scores</th>\n",
       "    </tr>\n",
       "  </thead>\n",
       "  <tbody>\n",
       "    <tr>\n",
       "      <th>count</th>\n",
       "      <td>25.000000</td>\n",
       "      <td>25.000000</td>\n",
       "    </tr>\n",
       "    <tr>\n",
       "      <th>mean</th>\n",
       "      <td>5.012000</td>\n",
       "      <td>51.480000</td>\n",
       "    </tr>\n",
       "    <tr>\n",
       "      <th>std</th>\n",
       "      <td>2.525094</td>\n",
       "      <td>25.286887</td>\n",
       "    </tr>\n",
       "    <tr>\n",
       "      <th>min</th>\n",
       "      <td>1.100000</td>\n",
       "      <td>17.000000</td>\n",
       "    </tr>\n",
       "    <tr>\n",
       "      <th>25%</th>\n",
       "      <td>2.700000</td>\n",
       "      <td>30.000000</td>\n",
       "    </tr>\n",
       "    <tr>\n",
       "      <th>50%</th>\n",
       "      <td>4.800000</td>\n",
       "      <td>47.000000</td>\n",
       "    </tr>\n",
       "    <tr>\n",
       "      <th>75%</th>\n",
       "      <td>7.400000</td>\n",
       "      <td>75.000000</td>\n",
       "    </tr>\n",
       "    <tr>\n",
       "      <th>max</th>\n",
       "      <td>9.200000</td>\n",
       "      <td>95.000000</td>\n",
       "    </tr>\n",
       "  </tbody>\n",
       "</table>\n",
       "</div>"
      ],
      "text/plain": [
       "           Hours     Scores\n",
       "count  25.000000  25.000000\n",
       "mean    5.012000  51.480000\n",
       "std     2.525094  25.286887\n",
       "min     1.100000  17.000000\n",
       "25%     2.700000  30.000000\n",
       "50%     4.800000  47.000000\n",
       "75%     7.400000  75.000000\n",
       "max     9.200000  95.000000"
      ]
     },
     "execution_count": 4,
     "metadata": {},
     "output_type": "execute_result"
    }
   ],
   "source": [
    "df.describe()"
   ]
  },
  {
   "cell_type": "code",
   "execution_count": 5,
   "id": "arbitrary-inquiry",
   "metadata": {
    "execution": {
     "iopub.execute_input": "2021-06-05T12:49:34.569551Z",
     "iopub.status.busy": "2021-06-05T12:49:34.568933Z",
     "iopub.status.idle": "2021-06-05T12:49:34.583715Z",
     "shell.execute_reply": "2021-06-05T12:49:34.584395Z",
     "shell.execute_reply.started": "2021-06-05T12:20:37.078690Z"
    },
    "papermill": {
     "duration": 0.035398,
     "end_time": "2021-06-05T12:49:34.584655",
     "exception": false,
     "start_time": "2021-06-05T12:49:34.549257",
     "status": "completed"
    },
    "tags": []
   },
   "outputs": [
    {
     "name": "stdout",
     "output_type": "stream",
     "text": [
      "<class 'pandas.core.frame.DataFrame'>\n",
      "RangeIndex: 25 entries, 0 to 24\n",
      "Data columns (total 2 columns):\n",
      " #   Column  Non-Null Count  Dtype  \n",
      "---  ------  --------------  -----  \n",
      " 0   Hours   25 non-null     float64\n",
      " 1   Scores  25 non-null     int64  \n",
      "dtypes: float64(1), int64(1)\n",
      "memory usage: 528.0 bytes\n"
     ]
    }
   ],
   "source": [
    "df.info()"
   ]
  },
  {
   "cell_type": "code",
   "execution_count": 6,
   "id": "improving-youth",
   "metadata": {
    "execution": {
     "iopub.execute_input": "2021-06-05T12:49:34.622742Z",
     "iopub.status.busy": "2021-06-05T12:49:34.622092Z",
     "iopub.status.idle": "2021-06-05T12:49:34.820738Z",
     "shell.execute_reply": "2021-06-05T12:49:34.821309Z",
     "shell.execute_reply.started": "2021-06-05T12:20:41.060095Z"
    },
    "papermill": {
     "duration": 0.218301,
     "end_time": "2021-06-05T12:49:34.821508",
     "exception": false,
     "start_time": "2021-06-05T12:49:34.603207",
     "status": "completed"
    },
    "tags": []
   },
   "outputs": [
    {
     "data": {
      "image/png": "[encoded data removed]",
      "text/plain": [
       "<Figure size 432x288 with 1 Axes>"
      ]
     },
     "metadata": {
      "needs_background": "light"
     },
     "output_type": "display_data"
    }
   ],
   "source": [
    "#Scatter plot of the data\n",
    "plt.scatter(df['Hours'],df['Scores'],color='blue')\n",
    "plt.xlabel(\"Hours studied\")\n",
    "plt.ylabel(\"Marks scored\")\n",
    "plt.show()\n"
   ]
  },
  {
   "cell_type": "markdown",
   "id": "impaired-wings",
   "metadata": {
    "papermill": {
     "duration": 0.016911,
     "end_time": "2021-06-05T12:49:34.857345",
     "exception": false,
     "start_time": "2021-06-05T12:49:34.840434",
     "status": "completed"
    },
    "tags": []
   },
   "source": [
    "# **Linear Regression**"
   ]
  },
  {
   "cell_type": "code",
   "execution_count": 7,
   "id": "equal-intelligence",
   "metadata": {
    "execution": {
     "iopub.execute_input": "2021-06-05T12:49:34.896581Z",
     "iopub.status.busy": "2021-06-05T12:49:34.895645Z",
     "iopub.status.idle": "2021-06-05T12:49:34.900432Z",
     "shell.execute_reply": "2021-06-05T12:49:34.900999Z",
     "shell.execute_reply.started": "2021-06-05T12:21:03.267252Z"
    },
    "papermill": {
     "duration": 0.025193,
     "end_time": "2021-06-05T12:49:34.901174",
     "exception": false,
     "start_time": "2021-06-05T12:49:34.875981",
     "status": "completed"
    },
    "tags": []
   },
   "outputs": [],
   "source": [
    "#Preparing the data\n",
    "\n",
    "x = np.array(df[\"Hours\"]).reshape(25,1)\n",
    "y = np.array(df[\"Scores\"]).reshape(25,1)"
   ]
  },
  {
   "cell_type": "code",
   "execution_count": 8,
   "id": "determined-compound",
   "metadata": {
    "execution": {
     "iopub.execute_input": "2021-06-05T12:49:34.938387Z",
     "iopub.status.busy": "2021-06-05T12:49:34.937452Z",
     "iopub.status.idle": "2021-06-05T12:49:35.812110Z",
     "shell.execute_reply": "2021-06-05T12:49:35.812621Z",
     "shell.execute_reply.started": "2021-06-05T12:21:18.113673Z"
    },
    "papermill": {
     "duration": 0.894676,
     "end_time": "2021-06-05T12:49:35.812827",
     "exception": false,
     "start_time": "2021-06-05T12:49:34.918151",
     "status": "completed"
    },
    "tags": []
   },
   "outputs": [],
   "source": [
    "#Splitting data into Training and Testing sets\n",
    "\n",
    "from sklearn.model_selection import train_test_split\n",
    "x_train,x_test,y_train,y_test = train_test_split(x,y,test_size = 0.25)\n"
   ]
  },
  {
   "cell_type": "code",
   "execution_count": 9,
   "id": "entertaining-welsh",
   "metadata": {
    "execution": {
     "iopub.execute_input": "2021-06-05T12:49:35.851632Z",
     "iopub.status.busy": "2021-06-05T12:49:35.850673Z",
     "iopub.status.idle": "2021-06-05T12:49:35.980233Z",
     "shell.execute_reply": "2021-06-05T12:49:35.980930Z",
     "shell.execute_reply.started": "2021-06-05T12:21:24.203261Z"
    },
    "papermill": {
     "duration": 0.150931,
     "end_time": "2021-06-05T12:49:35.981188",
     "exception": false,
     "start_time": "2021-06-05T12:49:35.830257",
     "status": "completed"
    },
    "tags": []
   },
   "outputs": [
    {
     "name": "stdout",
     "output_type": "stream",
     "text": [
      "Training complete\n"
     ]
    }
   ],
   "source": [
    "#Applying Linear Regression\n",
    "\n",
    "from sklearn.linear_model import LinearRegression\n",
    "model = LinearRegression()\n",
    "model.fit(x_train,y_train)\n",
    "print(\"Training complete\")"
   ]
  },
  {
   "cell_type": "code",
   "execution_count": 10,
   "id": "consecutive-melissa",
   "metadata": {
    "execution": {
     "iopub.execute_input": "2021-06-05T12:49:36.054605Z",
     "iopub.status.busy": "2021-06-05T12:49:36.051090Z",
     "iopub.status.idle": "2021-06-05T12:49:36.205229Z",
     "shell.execute_reply": "2021-06-05T12:49:36.204530Z",
     "shell.execute_reply.started": "2021-06-05T12:46:28.789773Z"
    },
    "papermill": {
     "duration": 0.203156,
     "end_time": "2021-06-05T12:49:36.205384",
     "exception": false,
     "start_time": "2021-06-05T12:49:36.002228",
     "status": "completed"
    },
    "tags": []
   },
   "outputs": [
    {
     "data": {
      "image/png": "[encoded data removed]",
      "text/plain": [
       "<Figure size 432x288 with 1 Axes>"
      ]
     },
     "metadata": {
      "needs_background": "light"
     },
     "output_type": "display_data"
    }
   ],
   "source": [
    "#exploring the results\n",
    "\n",
    "pred_scores = model.predict(x)\n",
    "plt.scatter(df['Hours'],df['Scores'],color='blue')\n",
    "plt.xlabel(\"Hours studied\")\n",
    "plt.ylabel(\"Marks scored\")\n",
    "plt.plot(x,pred_scores,color=\"black\")\n",
    "\n",
    "plt.show()"
   ]
  },
  {
   "cell_type": "markdown",
   "id": "driven-question",
   "metadata": {
    "papermill": {
     "duration": 0.01788,
     "end_time": "2021-06-05T12:49:36.241789",
     "exception": false,
     "start_time": "2021-06-05T12:49:36.223909",
     "status": "completed"
    },
    "tags": []
   },
   "source": [
    "# **Predicting the Scores**"
   ]
  },
  {
   "cell_type": "code",
   "execution_count": 11,
   "id": "vietnamese-pharmacology",
   "metadata": {
    "execution": {
     "iopub.execute_input": "2021-06-05T12:49:36.284055Z",
     "iopub.status.busy": "2021-06-05T12:49:36.283352Z",
     "iopub.status.idle": "2021-06-05T12:49:36.288154Z",
     "shell.execute_reply": "2021-06-05T12:49:36.287586Z",
     "shell.execute_reply.started": "2021-06-05T12:46:40.565355Z"
    },
    "papermill": {
     "duration": 0.028265,
     "end_time": "2021-06-05T12:49:36.288324",
     "exception": false,
     "start_time": "2021-06-05T12:49:36.260059",
     "status": "completed"
    },
    "tags": []
   },
   "outputs": [
    {
     "data": {
      "text/plain": [
       "array([[27.17575262],\n",
       "       [52.25183497],\n",
       "       [33.92700556],\n",
       "       [85.04363496],\n",
       "       [36.82039967]])"
      ]
     },
     "execution_count": 11,
     "metadata": {},
     "output_type": "execute_result"
    }
   ],
   "source": [
    "pred_scores[:5]"
   ]
  },
  {
   "cell_type": "code",
   "execution_count": 12,
   "id": "continuous-vancouver",
   "metadata": {
    "execution": {
     "iopub.execute_input": "2021-06-05T12:49:36.336609Z",
     "iopub.status.busy": "2021-06-05T12:49:36.335969Z",
     "iopub.status.idle": "2021-06-05T12:49:36.340745Z",
     "shell.execute_reply": "2021-06-05T12:49:36.340147Z",
     "shell.execute_reply.started": "2021-06-05T12:24:54.112371Z"
    },
    "papermill": {
     "duration": 0.033812,
     "end_time": "2021-06-05T12:49:36.340911",
     "exception": false,
     "start_time": "2021-06-05T12:49:36.307099",
     "status": "completed"
    },
    "tags": []
   },
   "outputs": [
    {
     "data": {
      "text/html": [
       "<div>\n",
       "<style scoped>\n",
       "    .dataframe tbody tr th:only-of-type {\n",
       "        vertical-align: middle;\n",
       "    }\n",
       "\n",
       "    .dataframe tbody tr th {\n",
       "        vertical-align: top;\n",
       "    }\n",
       "\n",
       "    .dataframe thead th {\n",
       "        text-align: right;\n",
       "    }\n",
       "</style>\n",
       "<table border=\"1\" class=\"dataframe\">\n",
       "  <thead>\n",
       "    <tr style=\"text-align: right;\">\n",
       "      <th></th>\n",
       "      <th>Actual Scores</th>\n",
       "      <th>Predicted Scores</th>\n",
       "    </tr>\n",
       "  </thead>\n",
       "  <tbody>\n",
       "    <tr>\n",
       "      <th>0</th>\n",
       "      <td>21</td>\n",
       "      <td>27.175753</td>\n",
       "    </tr>\n",
       "    <tr>\n",
       "      <th>1</th>\n",
       "      <td>47</td>\n",
       "      <td>52.251835</td>\n",
       "    </tr>\n",
       "    <tr>\n",
       "      <th>2</th>\n",
       "      <td>27</td>\n",
       "      <td>33.927006</td>\n",
       "    </tr>\n",
       "    <tr>\n",
       "      <th>3</th>\n",
       "      <td>75</td>\n",
       "      <td>85.043635</td>\n",
       "    </tr>\n",
       "    <tr>\n",
       "      <th>4</th>\n",
       "      <td>30</td>\n",
       "      <td>36.820400</td>\n",
       "    </tr>\n",
       "    <tr>\n",
       "      <th>5</th>\n",
       "      <td>20</td>\n",
       "      <td>17.531106</td>\n",
       "    </tr>\n",
       "    <tr>\n",
       "      <th>6</th>\n",
       "      <td>88</td>\n",
       "      <td>91.794888</td>\n",
       "    </tr>\n",
       "    <tr>\n",
       "      <th>7</th>\n",
       "      <td>60</td>\n",
       "      <td>56.109694</td>\n",
       "    </tr>\n",
       "    <tr>\n",
       "      <th>8</th>\n",
       "      <td>81</td>\n",
       "      <td>83.114706</td>\n",
       "    </tr>\n",
       "    <tr>\n",
       "      <th>9</th>\n",
       "      <td>25</td>\n",
       "      <td>29.104682</td>\n",
       "    </tr>\n",
       "  </tbody>\n",
       "</table>\n",
       "</div>"
      ],
      "text/plain": [
       "   Actual Scores  Predicted Scores\n",
       "0             21         27.175753\n",
       "1             47         52.251835\n",
       "2             27         33.927006\n",
       "3             75         85.043635\n",
       "4             30         36.820400\n",
       "5             20         17.531106\n",
       "6             88         91.794888\n",
       "7             60         56.109694\n",
       "8             81         83.114706\n",
       "9             25         29.104682"
      ]
     },
     "execution_count": 12,
     "metadata": {},
     "output_type": "execute_result"
    }
   ],
   "source": [
    "#comparing the predicted and actual scores\n",
    "Score = pd.DataFrame({\"Actual Scores\": df[\"Scores\"], \"Predicted Scores\": pred_scores.reshape(25,)})\n",
    "Score.head(10)"
   ]
  },
  {
   "cell_type": "code",
   "execution_count": 13,
   "id": "pacific-times",
   "metadata": {
    "execution": {
     "iopub.execute_input": "2021-06-05T12:49:36.384940Z",
     "iopub.status.busy": "2021-06-05T12:49:36.384295Z",
     "iopub.status.idle": "2021-06-05T12:49:36.387072Z",
     "shell.execute_reply": "2021-06-05T12:49:36.387513Z",
     "shell.execute_reply.started": "2021-06-05T12:28:05.798651Z"
    },
    "papermill": {
     "duration": 0.028141,
     "end_time": "2021-06-05T12:49:36.387677",
     "exception": false,
     "start_time": "2021-06-05T12:49:36.359536",
     "status": "completed"
    },
    "tags": []
   },
   "outputs": [
    {
     "name": "stdout",
     "output_type": "stream",
     "text": [
      "For 9.25 hours the student can get 92.27712025794261 marks\n"
     ]
    }
   ],
   "source": [
    "#using Custom Data\n",
    "\n",
    "hours = [[9.25]]\n",
    "custom_predict = model.predict(hours)\n",
    "print(\"For {} hours the student can get {} marks\".format(hours[0][0],custom_predict[0][0]))\n"
   ]
  },
  {
   "cell_type": "markdown",
   "id": "postal-source",
   "metadata": {
    "papermill": {
     "duration": 0.018644,
     "end_time": "2021-06-05T12:49:36.425503",
     "exception": false,
     "start_time": "2021-06-05T12:49:36.406859",
     "status": "completed"
    },
    "tags": []
   },
   "source": [
    "# **Evaluating the Model**"
   ]
  },
  {
   "cell_type": "code",
   "execution_count": 14,
   "id": "decreased-illinois",
   "metadata": {
    "execution": {
     "iopub.execute_input": "2021-06-05T12:49:36.470784Z",
     "iopub.status.busy": "2021-06-05T12:49:36.470141Z",
     "iopub.status.idle": "2021-06-05T12:49:36.473022Z",
     "shell.execute_reply": "2021-06-05T12:49:36.473779Z",
     "shell.execute_reply.started": "2021-06-05T12:29:29.013436Z"
    },
    "papermill": {
     "duration": 0.028696,
     "end_time": "2021-06-05T12:49:36.474047",
     "exception": false,
     "start_time": "2021-06-05T12:49:36.445351",
     "status": "completed"
    },
    "tags": []
   },
   "outputs": [
    {
     "name": "stdout",
     "output_type": "stream",
     "text": [
      "0.9529553669214876\n"
     ]
    }
   ],
   "source": [
    "# Accuracy of the Model\n",
    "\n",
    "print(model.score(x_test,y_test))"
   ]
  },
  {
   "cell_type": "code",
   "execution_count": 15,
   "id": "technological-installation",
   "metadata": {
    "execution": {
     "iopub.execute_input": "2021-06-05T12:49:36.517563Z",
     "iopub.status.busy": "2021-06-05T12:49:36.516876Z",
     "iopub.status.idle": "2021-06-05T12:49:36.522334Z",
     "shell.execute_reply": "2021-06-05T12:49:36.522859Z",
     "shell.execute_reply.started": "2021-06-05T12:48:49.051736Z"
    },
    "papermill": {
     "duration": 0.028256,
     "end_time": "2021-06-05T12:49:36.523053",
     "exception": false,
     "start_time": "2021-06-05T12:49:36.494797",
     "status": "completed"
    },
    "tags": []
   },
   "outputs": [
    {
     "name": "stdout",
     "output_type": "stream",
     "text": [
      "The Mean Square Error is 28.993937497607853\n"
     ]
    }
   ],
   "source": [
    "#mean square error of the Model\n",
    "\n",
    "from sklearn import metrics\n",
    "loss = metrics.mean_squared_error(y,pred_scores)\n",
    "print(\"The Mean Square Error is \"+ str(loss))\n"
   ]
  },
  {
   "cell_type": "code",
   "execution_count": null,
   "id": "gross-division",
   "metadata": {
    "papermill": {
     "duration": 0.019479,
     "end_time": "2021-06-05T12:49:36.562473",
     "exception": false,
     "start_time": "2021-06-05T12:49:36.542994",
     "status": "completed"
    },
    "tags": []
   },
   "outputs": [],
   "source": []
  }
 ],
 "metadata": {
  "kernelspec": {
   "display_name": "Python 3",
   "language": "python",
   "name": "python3"
  },
  "language_info": {
   "codemirror_mode": {
    "name": "ipython",
    "version": 3
   },
   "file_extension": ".py",
   "mimetype": "text/x-python",
   "name": "python",
   "nbconvert_exporter": "python",
   "pygments_lexer": "ipython3",
   "version": "3.7.10"
  },
  "papermill": {
   "default_parameters": {},
   "duration": 10.653983,
   "end_time": "2021-06-05T12:49:37.494230",
   "environment_variables": {},
   "exception": null,
   "input_path": "__notebook__.ipynb",
   "output_path": "__notebook__.ipynb",
   "parameters": {},
   "start_time": "2021-06-05T12:49:26.840247",
   "version": "2.3.3"
  }
 },
 "nbformat": 4,
 "nbformat_minor": 5
}
